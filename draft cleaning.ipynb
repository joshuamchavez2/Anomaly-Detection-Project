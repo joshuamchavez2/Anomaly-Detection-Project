{
 "cells": [
  {
   "cell_type": "code",
   "execution_count": 54,
   "id": "7f3e4b31",
   "metadata": {},
   "outputs": [],
   "source": [
    "import pandas as pd\n",
    "import numpy as np\n",
    "from datetime import timedelta, datetime\n",
    "from acquire import acquire\n",
    "import prepare\n",
    "import matplotlib.pyplot as plt"
   ]
  },
  {
   "cell_type": "code",
   "execution_count": 2,
   "id": "d5aa6976",
   "metadata": {},
   "outputs": [],
   "source": [
    "pd.set_option(\"display.max_rows\", None, \"display.max_columns\", None) \n",
    "\n",
    "pd.reset_option(\"display.max_rows\", \"display.max_columns\")"
   ]
  },
  {
   "cell_type": "markdown",
   "id": "9db10914",
   "metadata": {},
   "source": [
    "# Pipeline - Acquire "
   ]
  },
  {
   "cell_type": "code",
   "execution_count": 3,
   "id": "1d99f112",
   "metadata": {},
   "outputs": [],
   "source": [
    "df = acquire()"
   ]
  },
  {
   "cell_type": "code",
   "execution_count": 4,
   "id": "57f436e0",
   "metadata": {},
   "outputs": [
    {
     "data": {
      "text/html": [
       "<div>\n",
       "<style scoped>\n",
       "    .dataframe tbody tr th:only-of-type {\n",
       "        vertical-align: middle;\n",
       "    }\n",
       "\n",
       "    .dataframe tbody tr th {\n",
       "        vertical-align: top;\n",
       "    }\n",
       "\n",
       "    .dataframe thead th {\n",
       "        text-align: right;\n",
       "    }\n",
       "</style>\n",
       "<table border=\"1\" class=\"dataframe\">\n",
       "  <thead>\n",
       "    <tr style=\"text-align: right;\">\n",
       "      <th></th>\n",
       "      <th>date</th>\n",
       "      <th>time</th>\n",
       "      <th>path</th>\n",
       "      <th>user_id</th>\n",
       "      <th>cohort_id</th>\n",
       "      <th>ip</th>\n",
       "      <th>id</th>\n",
       "      <th>name</th>\n",
       "      <th>slack</th>\n",
       "      <th>start_date</th>\n",
       "      <th>end_date</th>\n",
       "      <th>created_at</th>\n",
       "      <th>updated_at</th>\n",
       "      <th>deleted_at</th>\n",
       "      <th>program_id</th>\n",
       "    </tr>\n",
       "  </thead>\n",
       "  <tbody>\n",
       "    <tr>\n",
       "      <th>0</th>\n",
       "      <td>2018-01-26</td>\n",
       "      <td>09:55:03</td>\n",
       "      <td>/</td>\n",
       "      <td>1</td>\n",
       "      <td>8.0</td>\n",
       "      <td>97.105.19.61</td>\n",
       "      <td>8.0</td>\n",
       "      <td>Hampton</td>\n",
       "      <td>#hampton</td>\n",
       "      <td>2015-09-22</td>\n",
       "      <td>2016-02-06</td>\n",
       "      <td>2016-06-14 19:52:26</td>\n",
       "      <td>2016-06-14 19:52:26</td>\n",
       "      <td>NaN</td>\n",
       "      <td>1.0</td>\n",
       "    </tr>\n",
       "    <tr>\n",
       "      <th>1</th>\n",
       "      <td>2018-01-26</td>\n",
       "      <td>09:56:02</td>\n",
       "      <td>java-ii</td>\n",
       "      <td>1</td>\n",
       "      <td>8.0</td>\n",
       "      <td>97.105.19.61</td>\n",
       "      <td>8.0</td>\n",
       "      <td>Hampton</td>\n",
       "      <td>#hampton</td>\n",
       "      <td>2015-09-22</td>\n",
       "      <td>2016-02-06</td>\n",
       "      <td>2016-06-14 19:52:26</td>\n",
       "      <td>2016-06-14 19:52:26</td>\n",
       "      <td>NaN</td>\n",
       "      <td>1.0</td>\n",
       "    </tr>\n",
       "    <tr>\n",
       "      <th>2</th>\n",
       "      <td>2018-01-26</td>\n",
       "      <td>09:56:05</td>\n",
       "      <td>java-ii/object-oriented-programming</td>\n",
       "      <td>1</td>\n",
       "      <td>8.0</td>\n",
       "      <td>97.105.19.61</td>\n",
       "      <td>8.0</td>\n",
       "      <td>Hampton</td>\n",
       "      <td>#hampton</td>\n",
       "      <td>2015-09-22</td>\n",
       "      <td>2016-02-06</td>\n",
       "      <td>2016-06-14 19:52:26</td>\n",
       "      <td>2016-06-14 19:52:26</td>\n",
       "      <td>NaN</td>\n",
       "      <td>1.0</td>\n",
       "    </tr>\n",
       "    <tr>\n",
       "      <th>3</th>\n",
       "      <td>2018-01-26</td>\n",
       "      <td>09:56:06</td>\n",
       "      <td>slides/object_oriented_programming</td>\n",
       "      <td>1</td>\n",
       "      <td>8.0</td>\n",
       "      <td>97.105.19.61</td>\n",
       "      <td>8.0</td>\n",
       "      <td>Hampton</td>\n",
       "      <td>#hampton</td>\n",
       "      <td>2015-09-22</td>\n",
       "      <td>2016-02-06</td>\n",
       "      <td>2016-06-14 19:52:26</td>\n",
       "      <td>2016-06-14 19:52:26</td>\n",
       "      <td>NaN</td>\n",
       "      <td>1.0</td>\n",
       "    </tr>\n",
       "    <tr>\n",
       "      <th>4</th>\n",
       "      <td>2018-01-26</td>\n",
       "      <td>09:56:24</td>\n",
       "      <td>javascript-i/conditionals</td>\n",
       "      <td>2</td>\n",
       "      <td>22.0</td>\n",
       "      <td>97.105.19.61</td>\n",
       "      <td>22.0</td>\n",
       "      <td>Teddy</td>\n",
       "      <td>#teddy</td>\n",
       "      <td>2018-01-08</td>\n",
       "      <td>2018-05-17</td>\n",
       "      <td>2018-01-08 13:59:10</td>\n",
       "      <td>2018-01-08 13:59:10</td>\n",
       "      <td>NaN</td>\n",
       "      <td>2.0</td>\n",
       "    </tr>\n",
       "  </tbody>\n",
       "</table>\n",
       "</div>"
      ],
      "text/plain": [
       "         date      time                                 path  user_id  \\\n",
       "0  2018-01-26  09:55:03                                    /        1   \n",
       "1  2018-01-26  09:56:02                              java-ii        1   \n",
       "2  2018-01-26  09:56:05  java-ii/object-oriented-programming        1   \n",
       "3  2018-01-26  09:56:06   slides/object_oriented_programming        1   \n",
       "4  2018-01-26  09:56:24            javascript-i/conditionals        2   \n",
       "\n",
       "   cohort_id            ip    id     name     slack  start_date    end_date  \\\n",
       "0        8.0  97.105.19.61   8.0  Hampton  #hampton  2015-09-22  2016-02-06   \n",
       "1        8.0  97.105.19.61   8.0  Hampton  #hampton  2015-09-22  2016-02-06   \n",
       "2        8.0  97.105.19.61   8.0  Hampton  #hampton  2015-09-22  2016-02-06   \n",
       "3        8.0  97.105.19.61   8.0  Hampton  #hampton  2015-09-22  2016-02-06   \n",
       "4       22.0  97.105.19.61  22.0    Teddy    #teddy  2018-01-08  2018-05-17   \n",
       "\n",
       "            created_at           updated_at  deleted_at  program_id  \n",
       "0  2016-06-14 19:52:26  2016-06-14 19:52:26         NaN         1.0  \n",
       "1  2016-06-14 19:52:26  2016-06-14 19:52:26         NaN         1.0  \n",
       "2  2016-06-14 19:52:26  2016-06-14 19:52:26         NaN         1.0  \n",
       "3  2016-06-14 19:52:26  2016-06-14 19:52:26         NaN         1.0  \n",
       "4  2018-01-08 13:59:10  2018-01-08 13:59:10         NaN         2.0  "
      ]
     },
     "execution_count": 4,
     "metadata": {},
     "output_type": "execute_result"
    }
   ],
   "source": [
    "df.head()"
   ]
  },
  {
   "cell_type": "code",
   "execution_count": 5,
   "id": "6f7456ca",
   "metadata": {},
   "outputs": [
    {
     "name": "stdout",
     "output_type": "stream",
     "text": [
      "<class 'pandas.core.frame.DataFrame'>\n",
      "Int64Index: 900223 entries, 0 to 900222\n",
      "Data columns (total 15 columns):\n",
      " #   Column      Non-Null Count   Dtype  \n",
      "---  ------      --------------   -----  \n",
      " 0   date        900223 non-null  object \n",
      " 1   time        900223 non-null  object \n",
      " 2   path        900222 non-null  object \n",
      " 3   user_id     900223 non-null  int64  \n",
      " 4   cohort_id   847330 non-null  float64\n",
      " 5   ip          900223 non-null  object \n",
      " 6   id          847330 non-null  float64\n",
      " 7   name        847330 non-null  object \n",
      " 8   slack       847330 non-null  object \n",
      " 9   start_date  847330 non-null  object \n",
      " 10  end_date    847330 non-null  object \n",
      " 11  created_at  847330 non-null  object \n",
      " 12  updated_at  847330 non-null  object \n",
      " 13  deleted_at  0 non-null       float64\n",
      " 14  program_id  847330 non-null  float64\n",
      "dtypes: float64(4), int64(1), object(10)\n",
      "memory usage: 109.9+ MB\n"
     ]
    }
   ],
   "source": [
    "df.info()"
   ]
  },
  {
   "cell_type": "markdown",
   "id": "364311a3",
   "metadata": {},
   "source": [
    "# Pipeline - Clean"
   ]
  },
  {
   "cell_type": "markdown",
   "id": "93fda0b8",
   "metadata": {},
   "source": [
    "### Clean - program_id added a column with its values mapped out"
   ]
  },
  {
   "cell_type": "code",
   "execution_count": 6,
   "id": "89fe4f6d",
   "metadata": {},
   "outputs": [
    {
     "data": {
      "text/plain": [
       "2.0    713365\n",
       "3.0    103412\n",
       "1.0     30548\n",
       "4.0         5\n",
       "Name: program_id, dtype: int64"
      ]
     },
     "execution_count": 6,
     "metadata": {},
     "output_type": "execute_result"
    }
   ],
   "source": [
    "# Checking the Value Counts for program_id\n",
    "df.program_id.value_counts()"
   ]
  },
  {
   "cell_type": "code",
   "execution_count": 7,
   "id": "c30b4097",
   "metadata": {},
   "outputs": [],
   "source": [
    "# using a map to make more sense of the values\n",
    "df['program'] = df.program_id.map({1:\"php\", 2:\"java\", 3:\"ds\", 4:\"fe\"})"
   ]
  },
  {
   "cell_type": "code",
   "execution_count": 8,
   "id": "87f56a99",
   "metadata": {},
   "outputs": [
    {
     "data": {
      "text/plain": [
       "java    713365\n",
       "ds      103412\n",
       "php      30548\n",
       "fe           5\n",
       "Name: program, dtype: int64"
      ]
     },
     "execution_count": 8,
     "metadata": {},
     "output_type": "execute_result"
    }
   ],
   "source": [
    "df.program.value_counts()"
   ]
  },
  {
   "cell_type": "markdown",
   "id": "270008b3",
   "metadata": {},
   "source": [
    "### Checking Nulls"
   ]
  },
  {
   "cell_type": "code",
   "execution_count": 9,
   "id": "e5caa100",
   "metadata": {},
   "outputs": [
    {
     "data": {
      "text/plain": [
       "date               0\n",
       "time               0\n",
       "path               1\n",
       "user_id            0\n",
       "cohort_id      52893\n",
       "ip                 0\n",
       "id             52893\n",
       "name           52893\n",
       "slack          52893\n",
       "start_date     52893\n",
       "end_date       52893\n",
       "created_at     52893\n",
       "updated_at     52893\n",
       "deleted_at    900223\n",
       "program_id     52893\n",
       "program        52893\n",
       "dtype: int64"
      ]
     },
     "execution_count": 9,
     "metadata": {},
     "output_type": "execute_result"
    }
   ],
   "source": [
    "df.isnull().sum()"
   ]
  },
  {
   "cell_type": "code",
   "execution_count": 10,
   "id": "44f6bded",
   "metadata": {},
   "outputs": [],
   "source": [
    "# dropped deleted_at since all values are null\n",
    "df = df.drop(columns=['deleted_at'])"
   ]
  },
  {
   "cell_type": "code",
   "execution_count": 11,
   "id": "9f571efd",
   "metadata": {},
   "outputs": [],
   "source": [
    "# would like to add anomalies to df_anomalies\n",
    "df_anomalies = df[df.path.isna()]"
   ]
  },
  {
   "cell_type": "code",
   "execution_count": 12,
   "id": "61afbe79",
   "metadata": {},
   "outputs": [],
   "source": [
    "# would like to later explore any trends in this group.  maybe certain cohort, time period etc...\n",
    "df_nulls = df[df.cohort_id.isnull()]"
   ]
  },
  {
   "cell_type": "code",
   "execution_count": 13,
   "id": "771fc3ac",
   "metadata": {},
   "outputs": [],
   "source": [
    "# Filtering out the fields where cohort_id is null\n",
    "df = df[~df.cohort_id.isnull()]"
   ]
  },
  {
   "cell_type": "code",
   "execution_count": 14,
   "id": "0b1a7835",
   "metadata": {},
   "outputs": [],
   "source": [
    "# filtering out just a single null value in path\n",
    "df = df[~df.path.isna()]"
   ]
  },
  {
   "cell_type": "code",
   "execution_count": 15,
   "id": "611a298d",
   "metadata": {},
   "outputs": [
    {
     "data": {
      "text/plain": [
       "date          0\n",
       "time          0\n",
       "path          0\n",
       "user_id       0\n",
       "cohort_id     0\n",
       "ip            0\n",
       "id            0\n",
       "name          0\n",
       "slack         0\n",
       "start_date    0\n",
       "end_date      0\n",
       "created_at    0\n",
       "updated_at    0\n",
       "program_id    0\n",
       "program       0\n",
       "dtype: int64"
      ]
     },
     "execution_count": 15,
     "metadata": {},
     "output_type": "execute_result"
    }
   ],
   "source": [
    "df.isnull().sum()"
   ]
  },
  {
   "cell_type": "code",
   "execution_count": 16,
   "id": "048b212b",
   "metadata": {},
   "outputs": [
    {
     "data": {
      "text/plain": [
       "(847329, 52893, 1)"
      ]
     },
     "execution_count": 16,
     "metadata": {},
     "output_type": "execute_result"
    }
   ],
   "source": [
    "len(df), len(df_nulls), len(df_anomalies)"
   ]
  },
  {
   "cell_type": "markdown",
   "id": "367eccc3",
   "metadata": {},
   "source": [
    "### Clean - Formatting Dates"
   ]
  },
  {
   "cell_type": "code",
   "execution_count": 17,
   "id": "2d6d0cac",
   "metadata": {},
   "outputs": [
    {
     "data": {
      "text/html": [
       "<div>\n",
       "<style scoped>\n",
       "    .dataframe tbody tr th:only-of-type {\n",
       "        vertical-align: middle;\n",
       "    }\n",
       "\n",
       "    .dataframe tbody tr th {\n",
       "        vertical-align: top;\n",
       "    }\n",
       "\n",
       "    .dataframe thead th {\n",
       "        text-align: right;\n",
       "    }\n",
       "</style>\n",
       "<table border=\"1\" class=\"dataframe\">\n",
       "  <thead>\n",
       "    <tr style=\"text-align: right;\">\n",
       "      <th></th>\n",
       "      <th>date</th>\n",
       "      <th>time</th>\n",
       "      <th>path</th>\n",
       "      <th>user_id</th>\n",
       "      <th>cohort_id</th>\n",
       "      <th>ip</th>\n",
       "      <th>id</th>\n",
       "      <th>name</th>\n",
       "      <th>slack</th>\n",
       "      <th>start_date</th>\n",
       "      <th>end_date</th>\n",
       "      <th>created_at</th>\n",
       "      <th>updated_at</th>\n",
       "      <th>program_id</th>\n",
       "      <th>program</th>\n",
       "    </tr>\n",
       "  </thead>\n",
       "  <tbody>\n",
       "    <tr>\n",
       "      <th>0</th>\n",
       "      <td>2018-01-26</td>\n",
       "      <td>09:55:03</td>\n",
       "      <td>/</td>\n",
       "      <td>1</td>\n",
       "      <td>8.0</td>\n",
       "      <td>97.105.19.61</td>\n",
       "      <td>8.0</td>\n",
       "      <td>Hampton</td>\n",
       "      <td>#hampton</td>\n",
       "      <td>2015-09-22</td>\n",
       "      <td>2016-02-06</td>\n",
       "      <td>2016-06-14 19:52:26</td>\n",
       "      <td>2016-06-14 19:52:26</td>\n",
       "      <td>1.0</td>\n",
       "      <td>php</td>\n",
       "    </tr>\n",
       "  </tbody>\n",
       "</table>\n",
       "</div>"
      ],
      "text/plain": [
       "         date      time path  user_id  cohort_id            ip   id     name  \\\n",
       "0  2018-01-26  09:55:03    /        1        8.0  97.105.19.61  8.0  Hampton   \n",
       "\n",
       "      slack  start_date    end_date           created_at           updated_at  \\\n",
       "0  #hampton  2015-09-22  2016-02-06  2016-06-14 19:52:26  2016-06-14 19:52:26   \n",
       "\n",
       "   program_id program  \n",
       "0         1.0     php  "
      ]
     },
     "execution_count": 17,
     "metadata": {},
     "output_type": "execute_result"
    }
   ],
   "source": [
    "df.head(1)"
   ]
  },
  {
   "cell_type": "code",
   "execution_count": 18,
   "id": "11f6ac55",
   "metadata": {},
   "outputs": [
    {
     "data": {
      "text/plain": [
       "dtype('O')"
      ]
     },
     "execution_count": 18,
     "metadata": {},
     "output_type": "execute_result"
    }
   ],
   "source": [
    "# Checking datatype\n",
    "df.date.dtype"
   ]
  },
  {
   "cell_type": "code",
   "execution_count": 19,
   "id": "3a5b6f07",
   "metadata": {},
   "outputs": [],
   "source": [
    "# Combining date and time\n",
    "df['date_time'] = df.date + \" \" + df.time"
   ]
  },
  {
   "cell_type": "code",
   "execution_count": 20,
   "id": "fd4dc44a",
   "metadata": {},
   "outputs": [],
   "source": [
    "# Converting date type object to datetime64\n",
    "df.date_time = pd.to_datetime(df.date_time)"
   ]
  },
  {
   "cell_type": "code",
   "execution_count": 21,
   "id": "c1d58024",
   "metadata": {},
   "outputs": [],
   "source": [
    "df['date_year'] = df.date_time.dt.year\n",
    "df['date_month'] = df.date_time.dt.month_name()\n",
    "df['date_weekday'] = df.date_time.dt.day_name()\n",
    "df['hour'] = df.date_time.dt.hour"
   ]
  },
  {
   "cell_type": "code",
   "execution_count": 53,
   "id": "f7b9c37f",
   "metadata": {},
   "outputs": [],
   "source": [
    "def clean(df):\n",
    "    \n",
    "    # using a map to make more sense of the values\n",
    "    df['program'] = df.program_id.map({1:\"php\", 2:\"java\", 3:\"ds\", 4:\"fe\"})\n",
    "    \n",
    "    # dropped deleted_at since all values are null\n",
    "    df = df.drop(columns=['deleted_at'])\n",
    "    \n",
    "    # Filtering out the fields where cohort_id is null\n",
    "    df = df[~df.cohort_id.isnull()]\n",
    "    \n",
    "    # filtering out just a single null value in path\n",
    "    df = df[~df.path.isna()]\n",
    "    \n",
    "    # Combining date and time\n",
    "    df['request_date_time'] = df.date + \" \" + df.time\n",
    "    \n",
    "    # Converting date type object to datetime64\n",
    "    df.request_date_time = pd.to_datetime(df.request_date_time)\n",
    "    \n",
    "    df['date_year'] = df.request_date_time.dt.year\n",
    "    df['date_month'] = df.request_date_time.dt.month_name()\n",
    "    df['date_weekday'] = df.request_date_time.dt.day_name()\n",
    "    df['hour'] = df.request_date_time.dt.hour\n",
    "    \n",
    "    df = df.drop(columns=['date', 'time', 'cohort_id', 'id', 'slack','program_id'])\n",
    "    \n",
    "    \n",
    "    df['start_date'] = pd.to_datetime(df['start_date'])\n",
    "    df['end_date'] = pd.to_datetime(df['end_date'])\n",
    "    df['created_at'] = pd.to_datetime(df['created_at'])\n",
    "    df['updated_at'] = pd.to_datetime(df['updated_at'])\n",
    "    \n",
    "    # Thanks Josh B. for this\n",
    "    df['url'] = df['path'].str.split('/').str[0]\n",
    "\n",
    "    # Thanks Josh B. for this\n",
    "    df['lesson'] = df['path'].str.split('/').str[1]\n",
    "\n",
    "    df['lesson'] = np.where(df.lesson.isnull(), 'no data', df.lesson)\n",
    "    \n",
    "    df = df[df.name != 'Staff']\n",
    "    \n",
    "    return df"
   ]
  },
  {
   "cell_type": "code",
   "execution_count": 23,
   "id": "d4f17f81",
   "metadata": {},
   "outputs": [],
   "source": [
    "# all the values\n",
    "df = acquire()\n",
    "\n",
    "# would like to add anomalies to df_anomalies\n",
    "df_anomalies = df[df.path.isna()]\n",
    "\n",
    "# would like to later explore any trends in this group.  maybe certain cohort, time period etc...\n",
    "df_nulls = df[df.cohort_id.isnull()]"
   ]
  },
  {
   "cell_type": "code",
   "execution_count": 24,
   "id": "583915d4",
   "metadata": {},
   "outputs": [],
   "source": [
    "df = clean(df)"
   ]
  },
  {
   "cell_type": "code",
   "execution_count": 25,
   "id": "9ecf3851",
   "metadata": {},
   "outputs": [
    {
     "name": "stdout",
     "output_type": "stream",
     "text": [
      "<class 'pandas.core.frame.DataFrame'>\n",
      "Int64Index: 763298 entries, 0 to 900217\n",
      "Data columns (total 16 columns):\n",
      " #   Column             Non-Null Count   Dtype         \n",
      "---  ------             --------------   -----         \n",
      " 0   path               763298 non-null  object        \n",
      " 1   user_id            763298 non-null  int64         \n",
      " 2   ip                 763298 non-null  object        \n",
      " 3   name               763298 non-null  object        \n",
      " 4   start_date         763298 non-null  datetime64[ns]\n",
      " 5   end_date           763298 non-null  datetime64[ns]\n",
      " 6   created_at         763298 non-null  datetime64[ns]\n",
      " 7   updated_at         763298 non-null  datetime64[ns]\n",
      " 8   program            763298 non-null  object        \n",
      " 9   request_date_time  763298 non-null  datetime64[ns]\n",
      " 10  date_year          763298 non-null  int64         \n",
      " 11  date_month         763298 non-null  object        \n",
      " 12  date_weekday       763298 non-null  object        \n",
      " 13  hour               763298 non-null  int64         \n",
      " 14  url                763298 non-null  object        \n",
      " 15  lesson             763298 non-null  object        \n",
      "dtypes: datetime64[ns](5), int64(3), object(8)\n",
      "memory usage: 99.0+ MB\n"
     ]
    }
   ],
   "source": [
    "df.info()"
   ]
  },
  {
   "cell_type": "code",
   "execution_count": 26,
   "id": "ae779d96",
   "metadata": {},
   "outputs": [
    {
     "data": {
      "text/html": [
       "<div>\n",
       "<style scoped>\n",
       "    .dataframe tbody tr th:only-of-type {\n",
       "        vertical-align: middle;\n",
       "    }\n",
       "\n",
       "    .dataframe tbody tr th {\n",
       "        vertical-align: top;\n",
       "    }\n",
       "\n",
       "    .dataframe thead th {\n",
       "        text-align: right;\n",
       "    }\n",
       "</style>\n",
       "<table border=\"1\" class=\"dataframe\">\n",
       "  <thead>\n",
       "    <tr style=\"text-align: right;\">\n",
       "      <th></th>\n",
       "      <th>path</th>\n",
       "      <th>user_id</th>\n",
       "      <th>ip</th>\n",
       "      <th>name</th>\n",
       "      <th>start_date</th>\n",
       "      <th>end_date</th>\n",
       "      <th>created_at</th>\n",
       "      <th>updated_at</th>\n",
       "      <th>program</th>\n",
       "      <th>request_date_time</th>\n",
       "      <th>date_year</th>\n",
       "      <th>date_month</th>\n",
       "      <th>date_weekday</th>\n",
       "      <th>hour</th>\n",
       "      <th>url</th>\n",
       "      <th>lesson</th>\n",
       "    </tr>\n",
       "  </thead>\n",
       "  <tbody>\n",
       "    <tr>\n",
       "      <th>0</th>\n",
       "      <td>/</td>\n",
       "      <td>1</td>\n",
       "      <td>97.105.19.61</td>\n",
       "      <td>Hampton</td>\n",
       "      <td>2015-09-22</td>\n",
       "      <td>2016-02-06</td>\n",
       "      <td>2016-06-14 19:52:26</td>\n",
       "      <td>2016-06-14 19:52:26</td>\n",
       "      <td>php</td>\n",
       "      <td>2018-01-26 09:55:03</td>\n",
       "      <td>2018</td>\n",
       "      <td>January</td>\n",
       "      <td>Friday</td>\n",
       "      <td>9</td>\n",
       "      <td></td>\n",
       "      <td></td>\n",
       "    </tr>\n",
       "  </tbody>\n",
       "</table>\n",
       "</div>"
      ],
      "text/plain": [
       "  path  user_id            ip     name start_date   end_date  \\\n",
       "0    /        1  97.105.19.61  Hampton 2015-09-22 2016-02-06   \n",
       "\n",
       "           created_at          updated_at program   request_date_time  \\\n",
       "0 2016-06-14 19:52:26 2016-06-14 19:52:26     php 2018-01-26 09:55:03   \n",
       "\n",
       "   date_year date_month date_weekday  hour url lesson  \n",
       "0       2018    January       Friday     9             "
      ]
     },
     "execution_count": 26,
     "metadata": {},
     "output_type": "execute_result"
    }
   ],
   "source": [
    "df.head(1)"
   ]
  },
  {
   "cell_type": "code",
   "execution_count": 27,
   "id": "df7dd6ef",
   "metadata": {},
   "outputs": [
    {
     "data": {
      "text/plain": [
       "no data         127614\n",
       "                 39567\n",
       "introduction     35657\n",
       "fundamentals     30947\n",
       "css-i            29391\n",
       "                 ...  \n",
       "codeup               1\n",
       "knn.md               1\n",
       "units                1\n",
       "file-upload          1\n",
       "file-op              1\n",
       "Name: lesson, Length: 606, dtype: int64"
      ]
     },
     "execution_count": 27,
     "metadata": {},
     "output_type": "execute_result"
    }
   ],
   "source": [
    "df.lesson.value_counts()"
   ]
  },
  {
   "cell_type": "markdown",
   "id": "e02b8f52",
   "metadata": {},
   "source": [
    "# Explore Questions"
   ]
  },
  {
   "cell_type": "markdown",
   "id": "4b3bdfbd",
   "metadata": {},
   "source": [
    "### #1 Which lesson appears to attract the most traffic consistently across cohorts (per program)?"
   ]
  },
  {
   "cell_type": "code",
   "execution_count": 28,
   "id": "4267b451",
   "metadata": {},
   "outputs": [
    {
     "data": {
      "text/html": [
       "<div>\n",
       "<style scoped>\n",
       "    .dataframe tbody tr th:only-of-type {\n",
       "        vertical-align: middle;\n",
       "    }\n",
       "\n",
       "    .dataframe tbody tr th {\n",
       "        vertical-align: top;\n",
       "    }\n",
       "\n",
       "    .dataframe thead th {\n",
       "        text-align: right;\n",
       "    }\n",
       "</style>\n",
       "<table border=\"1\" class=\"dataframe\">\n",
       "  <thead>\n",
       "    <tr style=\"text-align: right;\">\n",
       "      <th></th>\n",
       "      <th>path</th>\n",
       "      <th>user_id</th>\n",
       "      <th>ip</th>\n",
       "      <th>name</th>\n",
       "      <th>start_date</th>\n",
       "      <th>end_date</th>\n",
       "      <th>created_at</th>\n",
       "      <th>updated_at</th>\n",
       "      <th>program</th>\n",
       "      <th>request_date_time</th>\n",
       "      <th>date_year</th>\n",
       "      <th>date_month</th>\n",
       "      <th>date_weekday</th>\n",
       "      <th>hour</th>\n",
       "      <th>url</th>\n",
       "      <th>lesson</th>\n",
       "    </tr>\n",
       "  </thead>\n",
       "  <tbody>\n",
       "    <tr>\n",
       "      <th>0</th>\n",
       "      <td>/</td>\n",
       "      <td>1</td>\n",
       "      <td>97.105.19.61</td>\n",
       "      <td>Hampton</td>\n",
       "      <td>2015-09-22</td>\n",
       "      <td>2016-02-06</td>\n",
       "      <td>2016-06-14 19:52:26</td>\n",
       "      <td>2016-06-14 19:52:26</td>\n",
       "      <td>php</td>\n",
       "      <td>2018-01-26 09:55:03</td>\n",
       "      <td>2018</td>\n",
       "      <td>January</td>\n",
       "      <td>Friday</td>\n",
       "      <td>9</td>\n",
       "      <td></td>\n",
       "      <td></td>\n",
       "    </tr>\n",
       "  </tbody>\n",
       "</table>\n",
       "</div>"
      ],
      "text/plain": [
       "  path  user_id            ip     name start_date   end_date  \\\n",
       "0    /        1  97.105.19.61  Hampton 2015-09-22 2016-02-06   \n",
       "\n",
       "           created_at          updated_at program   request_date_time  \\\n",
       "0 2016-06-14 19:52:26 2016-06-14 19:52:26     php 2018-01-26 09:55:03   \n",
       "\n",
       "   date_year date_month date_weekday  hour url lesson  \n",
       "0       2018    January       Friday     9             "
      ]
     },
     "execution_count": 28,
     "metadata": {},
     "output_type": "execute_result"
    }
   ],
   "source": [
    "df.head(1)"
   ]
  },
  {
   "cell_type": "code",
   "execution_count": 29,
   "id": "10e22533",
   "metadata": {
    "scrolled": false
   },
   "outputs": [
    {
     "data": {
      "text/plain": [
       "program  url                        \n",
       "ds       fundamentals                   8746\n",
       "         classification                 8620\n",
       "                                        8358\n",
       "         1-fundamentals                 7945\n",
       "         sql                            7505\n",
       "                                        ... \n",
       "php      learn-to-code                     1\n",
       "         ordinary_least_squares.jpeg       1\n",
       "         php                               1\n",
       "         pre-work                          1\n",
       "         teams                             1\n",
       "Name: url, Length: 580, dtype: int64"
      ]
     },
     "execution_count": 29,
     "metadata": {},
     "output_type": "execute_result"
    }
   ],
   "source": [
    "pd.set_option('display.max_rows', 10)\n",
    "df.groupby('program').url.value_counts()"
   ]
  },
  {
   "cell_type": "code",
   "execution_count": 30,
   "id": "f4e5fdd8",
   "metadata": {
    "scrolled": false
   },
   "outputs": [
    {
     "data": {
      "text/plain": [
       "name       url                        \n",
       "Andromeda  javascript-i                   4077\n",
       "           mysql                          3029\n",
       "           html-css                       2865\n",
       "           spring                         2850\n",
       "           java-iii                       2117\n",
       "                                          ... \n",
       "Zion       Intro_to_Regression               1\n",
       "           arash-arghavan                    1\n",
       "           collections                       1\n",
       "           git                               1\n",
       "           ordinary_least_squares.jpeg       1\n",
       "Name: url, Length: 1735, dtype: int64"
      ]
     },
     "execution_count": 30,
     "metadata": {},
     "output_type": "execute_result"
    }
   ],
   "source": [
    "pd.set_option('display.max_rows', 10)\n",
    "df.groupby('name').url.value_counts()"
   ]
  },
  {
   "cell_type": "code",
   "execution_count": 31,
   "id": "b28c57bf",
   "metadata": {},
   "outputs": [],
   "source": [
    "pd.set_option('display.max_rows', 10)"
   ]
  },
  {
   "cell_type": "code",
   "execution_count": 32,
   "id": "ec332c10",
   "metadata": {},
   "outputs": [],
   "source": [
    "cohort = df[df.name == \"Andromeda\"]"
   ]
  },
  {
   "cell_type": "code",
   "execution_count": 33,
   "id": "1a623dfd",
   "metadata": {},
   "outputs": [],
   "source": [
    "startstamp = cohort.start_date.value_counts().index[0]\n",
    "endstamp = cohort.end_date.value_counts().index[0]"
   ]
  },
  {
   "cell_type": "code",
   "execution_count": 34,
   "id": "13f38e0a",
   "metadata": {},
   "outputs": [
    {
     "data": {
      "text/plain": [
       "0"
      ]
     },
     "execution_count": 34,
     "metadata": {},
     "output_type": "execute_result"
    }
   ],
   "source": [
    "request_before = len(cohort[cohort.request_date_time < startstamp])\n",
    "request_before"
   ]
  },
  {
   "cell_type": "code",
   "execution_count": 35,
   "id": "1d3bfc0d",
   "metadata": {},
   "outputs": [
    {
     "data": {
      "text/plain": [
       "25359"
      ]
     },
     "execution_count": 35,
     "metadata": {},
     "output_type": "execute_result"
    }
   ],
   "source": [
    "request_total = len(cohort[cohort.request_date_time >= startstamp])\n",
    "request_total"
   ]
  },
  {
   "cell_type": "code",
   "execution_count": 36,
   "id": "a6fef90b",
   "metadata": {},
   "outputs": [
    {
     "data": {
      "text/plain": [
       "21114"
      ]
     },
     "execution_count": 36,
     "metadata": {},
     "output_type": "execute_result"
    }
   ],
   "source": [
    "request_during = len(cohort[cohort.request_date_time <= endstamp])\n",
    "request_during"
   ]
  },
  {
   "cell_type": "code",
   "execution_count": 37,
   "id": "337d8acd",
   "metadata": {},
   "outputs": [
    {
     "data": {
      "text/plain": [
       "4245"
      ]
     },
     "execution_count": 37,
     "metadata": {},
     "output_type": "execute_result"
    }
   ],
   "source": [
    "request_after = len(cohort[cohort.request_date_time > endstamp])\n",
    "request_after"
   ]
  },
  {
   "cell_type": "code",
   "execution_count": 38,
   "id": "bdea2eb8",
   "metadata": {},
   "outputs": [],
   "source": [
    "cohort_names = list(df.name.unique())"
   ]
  },
  {
   "cell_type": "code",
   "execution_count": 39,
   "id": "9993ee71",
   "metadata": {},
   "outputs": [
    {
     "data": {
      "text/html": [
       "<div>\n",
       "<style scoped>\n",
       "    .dataframe tbody tr th:only-of-type {\n",
       "        vertical-align: middle;\n",
       "    }\n",
       "\n",
       "    .dataframe tbody tr th {\n",
       "        vertical-align: top;\n",
       "    }\n",
       "\n",
       "    .dataframe thead th {\n",
       "        text-align: right;\n",
       "    }\n",
       "</style>\n",
       "<table border=\"1\" class=\"dataframe\">\n",
       "  <thead>\n",
       "    <tr style=\"text-align: right;\">\n",
       "      <th></th>\n",
       "      <th>path</th>\n",
       "      <th>user_id</th>\n",
       "      <th>ip</th>\n",
       "      <th>name</th>\n",
       "      <th>start_date</th>\n",
       "      <th>end_date</th>\n",
       "      <th>created_at</th>\n",
       "      <th>updated_at</th>\n",
       "      <th>program</th>\n",
       "      <th>request_date_time</th>\n",
       "      <th>date_year</th>\n",
       "      <th>date_month</th>\n",
       "      <th>date_weekday</th>\n",
       "      <th>hour</th>\n",
       "      <th>url</th>\n",
       "      <th>lesson</th>\n",
       "    </tr>\n",
       "  </thead>\n",
       "  <tbody>\n",
       "    <tr>\n",
       "      <th>0</th>\n",
       "      <td>/</td>\n",
       "      <td>1</td>\n",
       "      <td>97.105.19.61</td>\n",
       "      <td>Hampton</td>\n",
       "      <td>2015-09-22</td>\n",
       "      <td>2016-02-06</td>\n",
       "      <td>2016-06-14 19:52:26</td>\n",
       "      <td>2016-06-14 19:52:26</td>\n",
       "      <td>php</td>\n",
       "      <td>2018-01-26 09:55:03</td>\n",
       "      <td>2018</td>\n",
       "      <td>January</td>\n",
       "      <td>Friday</td>\n",
       "      <td>9</td>\n",
       "      <td></td>\n",
       "      <td></td>\n",
       "    </tr>\n",
       "  </tbody>\n",
       "</table>\n",
       "</div>"
      ],
      "text/plain": [
       "  path  user_id            ip     name start_date   end_date  \\\n",
       "0    /        1  97.105.19.61  Hampton 2015-09-22 2016-02-06   \n",
       "\n",
       "           created_at          updated_at program   request_date_time  \\\n",
       "0 2016-06-14 19:52:26 2016-06-14 19:52:26     php 2018-01-26 09:55:03   \n",
       "\n",
       "   date_year date_month date_weekday  hour url lesson  \n",
       "0       2018    January       Friday     9             "
      ]
     },
     "execution_count": 39,
     "metadata": {},
     "output_type": "execute_result"
    }
   ],
   "source": [
    "df.head(1)"
   ]
  },
  {
   "cell_type": "code",
   "execution_count": 40,
   "id": "1efcd2eb",
   "metadata": {},
   "outputs": [],
   "source": [
    "cohort_df = pd.DataFrame(columns=['cohort','during', 'after', 'total', 'class_size', 'low_access_during'])\n",
    "for value in cohort_names:\n",
    "    cohort = df[df.name == value]\n",
    "    startstamp = cohort.start_date.value_counts().index[0]\n",
    "    endstamp = cohort.end_date.value_counts().index[0]\n",
    "    \n",
    "    total = len(cohort[cohort.request_date_time >= startstamp])\n",
    "    during = len(cohort[cohort.request_date_time <= endstamp])\n",
    "    after = len(cohort[cohort.request_date_time > endstamp])\n",
    "    class_size = cohort.user_id.nunique()\n",
    "    temp = cohort[cohort.request_date_time <= endstamp]\n",
    "    low_access_during = len(temp.groupby('user_id').path.count()[temp.groupby('user_id').path.count() < 40])\n",
    "    \n",
    "    cohort_df = cohort_df.append({'cohort':value, 'during': during, 'after':after, 'total':total, 'class_size':class_size, 'low_access_during':low_access_during}, ignore_index=True)\n",
    "    \n",
    "cohort_df['low_access_percent'] = round(((cohort_df.low_access_during/cohort_df.class_size)*100).astype('float'))\n",
    "temp  = cohort_df[cohort_df.low_access_during > 0][['cohort', 'class_size', 'low_access_during', 'low_access_percent']]"
   ]
  },
  {
   "cell_type": "code",
   "execution_count": 41,
   "id": "a41262b9",
   "metadata": {},
   "outputs": [
    {
     "data": {
      "text/html": [
       "<div>\n",
       "<style scoped>\n",
       "    .dataframe tbody tr th:only-of-type {\n",
       "        vertical-align: middle;\n",
       "    }\n",
       "\n",
       "    .dataframe tbody tr th {\n",
       "        vertical-align: top;\n",
       "    }\n",
       "\n",
       "    .dataframe thead th {\n",
       "        text-align: right;\n",
       "    }\n",
       "</style>\n",
       "<table border=\"1\" class=\"dataframe\">\n",
       "  <thead>\n",
       "    <tr style=\"text-align: right;\">\n",
       "      <th></th>\n",
       "      <th>cohort</th>\n",
       "      <th>class_size</th>\n",
       "      <th>low_access_during</th>\n",
       "      <th>low_access_percent</th>\n",
       "    </tr>\n",
       "  </thead>\n",
       "  <tbody>\n",
       "    <tr>\n",
       "      <th>2</th>\n",
       "      <td>Sequoia</td>\n",
       "      <td>28</td>\n",
       "      <td>3</td>\n",
       "      <td>11.0</td>\n",
       "    </tr>\n",
       "    <tr>\n",
       "      <th>18</th>\n",
       "      <td>Voyageurs</td>\n",
       "      <td>34</td>\n",
       "      <td>1</td>\n",
       "      <td>3.0</td>\n",
       "    </tr>\n",
       "    <tr>\n",
       "      <th>23</th>\n",
       "      <td>Zion</td>\n",
       "      <td>25</td>\n",
       "      <td>1</td>\n",
       "      <td>4.0</td>\n",
       "    </tr>\n",
       "  </tbody>\n",
       "</table>\n",
       "</div>"
      ],
      "text/plain": [
       "       cohort class_size low_access_during  low_access_percent\n",
       "2     Sequoia         28                 3                11.0\n",
       "18  Voyageurs         34                 1                 3.0\n",
       "23       Zion         25                 1                 4.0"
      ]
     },
     "execution_count": 41,
     "metadata": {},
     "output_type": "execute_result"
    }
   ],
   "source": [
    "cohort_df[cohort_df.low_access_during > 0][['cohort', 'class_size', 'low_access_during', 'low_access_percent']].head(3)"
   ]
  },
  {
   "cell_type": "code",
   "execution_count": 42,
   "id": "20753372",
   "metadata": {},
   "outputs": [
    {
     "data": {
      "image/png": "[encoded data removed]",
      "text/plain": [
       "<Figure size 432x288 with 1 Axes>"
      ]
     },
     "metadata": {
      "needs_background": "light"
     },
     "output_type": "display_data"
    }
   ],
   "source": [
    "plt.bar(temp.cohort, temp.low_access_percent)\n",
    "plt.xticks(rotation = 90)\n",
    "plt.title(\"Low Access < 40 Requests\")\n",
    "plt.ylabel(\"Percent by Class Size\")\n",
    "plt.show()"
   ]
  },
  {
   "cell_type": "code",
   "execution_count": 43,
   "id": "fb11c7e5",
   "metadata": {},
   "outputs": [
    {
     "data": {
      "text/plain": [
       "3.0"
      ]
     },
     "execution_count": 43,
     "metadata": {},
     "output_type": "execute_result"
    }
   ],
   "source": [
    "round(float(cohort_df.low_access_during.sum()/cohort_df.class_size.sum()), 2)* 100"
   ]
  },
  {
   "cell_type": "code",
   "execution_count": null,
   "id": "f6469be0",
   "metadata": {},
   "outputs": [],
   "source": []
  },
  {
   "cell_type": "code",
   "execution_count": 45,
   "id": "f52b7379",
   "metadata": {},
   "outputs": [],
   "source": [
    "#len(temp.groupby('user_id').path.count()[temp.groupby('user_id').path.count() < 40])"
   ]
  },
  {
   "cell_type": "code",
   "execution_count": 46,
   "id": "8a8dc917",
   "metadata": {},
   "outputs": [
    {
     "data": {
      "text/html": [
       "<div>\n",
       "<style scoped>\n",
       "    .dataframe tbody tr th:only-of-type {\n",
       "        vertical-align: middle;\n",
       "    }\n",
       "\n",
       "    .dataframe tbody tr th {\n",
       "        vertical-align: top;\n",
       "    }\n",
       "\n",
       "    .dataframe thead th {\n",
       "        text-align: right;\n",
       "    }\n",
       "</style>\n",
       "<table border=\"1\" class=\"dataframe\">\n",
       "  <thead>\n",
       "    <tr style=\"text-align: right;\">\n",
       "      <th></th>\n",
       "      <th>cohort</th>\n",
       "      <th>class_size</th>\n",
       "    </tr>\n",
       "  </thead>\n",
       "  <tbody>\n",
       "    <tr>\n",
       "      <th>43</th>\n",
       "      <td>Neptune</td>\n",
       "      <td>37</td>\n",
       "    </tr>\n",
       "    <tr>\n",
       "      <th>1</th>\n",
       "      <td>Teddy</td>\n",
       "      <td>35</td>\n",
       "    </tr>\n",
       "    <tr>\n",
       "      <th>18</th>\n",
       "      <td>Voyageurs</td>\n",
       "      <td>34</td>\n",
       "    </tr>\n",
       "    <tr>\n",
       "      <th>38</th>\n",
       "      <td>Jupiter</td>\n",
       "      <td>33</td>\n",
       "    </tr>\n",
       "    <tr>\n",
       "      <th>14</th>\n",
       "      <td>Ulysses</td>\n",
       "      <td>33</td>\n",
       "    </tr>\n",
       "    <tr>\n",
       "      <th>...</th>\n",
       "      <td>...</td>\n",
       "      <td>...</td>\n",
       "    </tr>\n",
       "    <tr>\n",
       "      <th>15</th>\n",
       "      <td>Badlands</td>\n",
       "      <td>3</td>\n",
       "    </tr>\n",
       "    <tr>\n",
       "      <th>21</th>\n",
       "      <td>Franklin</td>\n",
       "      <td>2</td>\n",
       "    </tr>\n",
       "    <tr>\n",
       "      <th>34</th>\n",
       "      <td>Everglades</td>\n",
       "      <td>1</td>\n",
       "    </tr>\n",
       "    <tr>\n",
       "      <th>16</th>\n",
       "      <td>Apollo</td>\n",
       "      <td>1</td>\n",
       "    </tr>\n",
       "    <tr>\n",
       "      <th>11</th>\n",
       "      <td>Denali</td>\n",
       "      <td>1</td>\n",
       "    </tr>\n",
       "  </tbody>\n",
       "</table>\n",
       "<p>46 rows × 2 columns</p>\n",
       "</div>"
      ],
      "text/plain": [
       "        cohort class_size\n",
       "43     Neptune         37\n",
       "1        Teddy         35\n",
       "18   Voyageurs         34\n",
       "38     Jupiter         33\n",
       "14     Ulysses         33\n",
       "..         ...        ...\n",
       "15    Badlands          3\n",
       "21    Franklin          2\n",
       "34  Everglades          1\n",
       "16      Apollo          1\n",
       "11      Denali          1\n",
       "\n",
       "[46 rows x 2 columns]"
      ]
     },
     "execution_count": 46,
     "metadata": {},
     "output_type": "execute_result"
    }
   ],
   "source": [
    "cohort_df[['cohort', 'class_size']].sort_values(by=['class_size'], ascending=False)"
   ]
  },
  {
   "cell_type": "code",
   "execution_count": 55,
   "id": "07e7b396",
   "metadata": {},
   "outputs": [],
   "source": [
    "df = acquire()\n",
    "df = prepare.clean(df)"
   ]
  },
  {
   "cell_type": "code",
   "execution_count": 56,
   "id": "956078c6",
   "metadata": {},
   "outputs": [],
   "source": [
    "d={}\n",
    "for value in list(df.name.unique()):\n",
    "    cohort = df[df.name == value]\n",
    "    endstamp = cohort.end_date.value_counts().index[0]\n",
    "    \n",
    "    d[value] = cohort[cohort.request_date_time > endstamp]"
   ]
  },
  {
   "cell_type": "code",
   "execution_count": 57,
   "id": "7898a454",
   "metadata": {},
   "outputs": [],
   "source": [
    "java_name_list = list(df[df.program == 'java'].name.unique())\n",
    "ds_name_list = list(df[df.program == 'ds'].name.unique())\n",
    "php_name_list = list(df[df.program == 'php'].name.unique())\n",
    "fe_name_list = list(df[df.program == 'fe'].name.unique())"
   ]
  },
  {
   "cell_type": "code",
   "execution_count": 58,
   "id": "971ab9b4",
   "metadata": {},
   "outputs": [
    {
     "data": {
      "text/plain": [
       "27"
      ]
     },
     "execution_count": 58,
     "metadata": {},
     "output_type": "execute_result"
    }
   ],
   "source": [
    "len(java_name_list)"
   ]
  },
  {
   "cell_type": "code",
   "execution_count": 62,
   "id": "ff5e298d",
   "metadata": {
    "scrolled": false
   },
   "outputs": [
    {
     "name": "stdout",
     "output_type": "stream",
     "text": [
      "Apollo\n",
      "content    4\n",
      "Name: url, dtype: int64\n",
      "\n",
      "\n",
      "\n"
     ]
    }
   ],
   "source": [
    "for value in fe_name_list:\n",
    "    print(value)\n",
    "    print(d[value].url.value_counts().head(4))\n",
    "    print('\\n\\n')"
   ]
  },
  {
   "cell_type": "markdown",
   "id": "7e3bd987",
   "metadata": {},
   "source": [
    "### #1 Answer"
   ]
  },
  {
   "cell_type": "code",
   "execution_count": null,
   "id": "f8fb7ccc",
   "metadata": {},
   "outputs": [],
   "source": []
  },
  {
   "cell_type": "code",
   "execution_count": null,
   "id": "3c23b45f",
   "metadata": {},
   "outputs": [],
   "source": []
  },
  {
   "cell_type": "markdown",
   "id": "58c11b31",
   "metadata": {},
   "source": [
    "2. Is there a cohort that referred to a lesson significantly more than other cohorts seemed to gloss over?"
   ]
  },
  {
   "cell_type": "code",
   "execution_count": null,
   "id": "1509830c",
   "metadata": {},
   "outputs": [],
   "source": [
    "df = acquire()\n",
    "df = clean(df)"
   ]
  },
  {
   "cell_type": "code",
   "execution_count": null,
   "id": "5f931988",
   "metadata": {},
   "outputs": [],
   "source": [
    "len(df)"
   ]
  },
  {
   "cell_type": "code",
   "execution_count": null,
   "id": "8d4c95c1",
   "metadata": {},
   "outputs": [],
   "source": [
    "len(df[~df.name == 'Staff'])"
   ]
  },
  {
   "cell_type": "code",
   "execution_count": null,
   "id": "20ec6ac9",
   "metadata": {},
   "outputs": [],
   "source": [
    "len(df)-len(df[df.name == 'Staff'])"
   ]
  },
  {
   "cell_type": "code",
   "execution_count": null,
   "id": "7ce0287a",
   "metadata": {},
   "outputs": [],
   "source": [
    "df = df[df.name != 'Staff']"
   ]
  },
  {
   "cell_type": "code",
   "execution_count": null,
   "id": "3d164bfd",
   "metadata": {},
   "outputs": [],
   "source": []
  },
  {
   "cell_type": "markdown",
   "id": "088dec31",
   "metadata": {},
   "source": [
    "\n",
    "4. Is there any suspicious activity, such as users/machines/etc accessing the curriculum who shouldn’t be? Does it appear that any web-scraping is happening? Are there any suspicious IP addresses?\n",
    "5. At some point in 2019, the ability for students and alumni to access both curriculums (web dev to ds, ds to web dev) should have been shut off. Do you see any evidence of that happening? Did it happen before?\n",
    "6. What topics are grads continuing to reference after graduation and into their jobs (for each program)?\n",
    "7. Which lessons are least accessed?\n",
    "8. Anything else I should be aware of?"
   ]
  },
  {
   "cell_type": "code",
   "execution_count": null,
   "id": "d1ff6dd9",
   "metadata": {},
   "outputs": [],
   "source": []
  }
 ],
 "metadata": {
  "kernelspec": {
   "display_name": "Python 3",
   "language": "python",
   "name": "python3"
  },
  "language_info": {
   "codemirror_mode": {
    "name": "ipython",
    "version": 3
   },
   "file_extension": ".py",
   "mimetype": "text/x-python",
   "name": "python",
   "nbconvert_exporter": "python",
   "pygments_lexer": "ipython3",
   "version": "3.8.8"
  }
 },
 "nbformat": 4,
 "nbformat_minor": 5
}
