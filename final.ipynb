{
 "cells": [
  {
   "cell_type": "markdown",
   "id": "b679477a",
   "metadata": {},
   "source": [
    "# Explore Questions"
   ]
  },
  {
   "cell_type": "markdown",
   "id": "dbf619e2",
   "metadata": {},
   "source": [
    "## #1 Which lesson appears to attract the most traffic consistently across cohorts (per program)?"
   ]
  },
  {
   "cell_type": "markdown",
   "id": "61af1fd1",
   "metadata": {},
   "source": [
    "#### Popular Lesson by Program - During enrollment\n",
    "    java\n",
    "        - fundamentals-i\n",
    "        \n",
    "    data science\n",
    "        - Tie between fundamentals & classification\n",
    "        \n",
    "    php\n",
    "        - No Data\n",
    "        \n",
    "    fe\n",
    "        - No Data\n",
    "    \n",
    "\n"
   ]
  },
  {
   "cell_type": "markdown",
   "id": "bc84039e",
   "metadata": {},
   "source": [
    "    *Key Takaway*\n",
    "    \n",
    "    - For Web-Dev (java/php) Looks like javascript-i overall is the most populor lesson during enrollment.  \n",
    "    - For Data Science fundamentals and classification are most popular during enrollment.\n",
    "    - Seems that the earlier on lessons for web-dev and data science are really important and get referenced the most.\n"
   ]
  },
  {
   "cell_type": "markdown",
   "id": "3efdf69d",
   "metadata": {},
   "source": [
    "## #2 Is there a cohort that referred to a lesson significantly more than other cohorts seemed to gloss over?"
   ]
  },
  {
   "cell_type": "markdown",
   "id": "d15bf5be",
   "metadata": {},
   "source": [
    "    On the Web Dev side, the html lesson was referred significantly more by Ceres"
   ]
  },
  {
   "cell_type": "markdown",
   "id": "3f2abfe3",
   "metadata": {},
   "source": [
    "<img src=\"image/htmlcss.png\" width=\"400\" height=\"400\" align='left'>"
   ]
  },
  {
   "cell_type": "markdown",
   "id": "6c9226ea",
   "metadata": {},
   "source": [
    "    On the Data Science side, the classification lesson was referred significantly more by Darden"
   ]
  },
  {
   "cell_type": "markdown",
   "id": "0d8a8af0",
   "metadata": {},
   "source": [
    "<img src=\"image/classification.png\" width=\"400\" height=\"400\" align='left'>"
   ]
  },
  {
   "cell_type": "markdown",
   "id": "38db27da",
   "metadata": {},
   "source": [
    "    *Takeaway*\n",
    "    \n",
    "        - These numbers are based on requests while currently enrolled, not after graduating\n",
    "        - There are more lessons show this similar trend, I just focused on one lesson for each webdev and ds"
   ]
  },
  {
   "cell_type": "markdown",
   "id": "d909bae4",
   "metadata": {},
   "source": [
    "### #3 Are there students who, when active, hardly access the curriculum? If so, what information do you have about these students?"
   ]
  },
  {
   "cell_type": "markdown",
   "id": "c9199cf2",
   "metadata": {},
   "source": [
    "<img src=\"image/lowaccess.png\" width=\"400\" height=\"400\" align='left'>"
   ]
  },
  {
   "cell_type": "markdown",
   "id": "79cd1ba4",
   "metadata": {},
   "source": [
    "## Table of Low Access Students"
   ]
  },
  {
   "cell_type": "markdown",
   "id": "5512cec9",
   "metadata": {},
   "source": [
    "<img src=\"image/table.png\" width=\"250\" height=\"250\" align='left'>"
   ]
  },
  {
   "cell_type": "markdown",
   "id": "3dd71dac",
   "metadata": {},
   "source": [
    "    *Takeaway*\n",
    "        \n",
    "        - Low Access defined by less than 40 requests while currently enrolled\n",
    "        - Low Access during currently enrolled, not after graduating.\n",
    "        - Oberon had the most low access by percentage of class\n",
    "        - Of the entire 952 students from each cohort, there are only 31 low access students.  Making up roughly 3% of the students."
   ]
  },
  {
   "cell_type": "markdown",
   "id": "57c0bbc0",
   "metadata": {},
   "source": [
    "### #4 Is there any suspicious activity, such as users/machines/etc accessing the curriculum who shouldn’t be? Does it appear that any web-scraping is happening? Are there any suspicious IP addresses?"
   ]
  },
  {
   "cell_type": "markdown",
   "id": "b717dae3",
   "metadata": {},
   "source": [
    "    I was able to find a lot instances were large amounts of requests were done in a single day by a user_id.  One that stood out to me the most was:\n",
    "    \n",
    "    - Cohort Arches\n",
    "    - ip address 108.199.117.96\n",
    "    - user_id 313\n",
    "    - requests 222\n",
    "    - date 2018-12-19"
   ]
  },
  {
   "cell_type": "markdown",
   "id": "a5f7ef6b",
   "metadata": {},
   "source": [
    "<img src=\"image/a_scrap.png\" width=\"400\" height=\"400\" align='left'>"
   ]
  },
  {
   "cell_type": "markdown",
   "id": "ed00de29",
   "metadata": {},
   "source": [
    "### #5 What topics are grads continuing to reference after graduation and into their jobs (for each program)?"
   ]
  },
  {
   "cell_type": "markdown",
   "id": "be880eae",
   "metadata": {},
   "source": [
    "####  Popular Lesson by Program - After Graduating\n",
    "    java\n",
    "        - java-i\n",
    "        - java-ii\n",
    "        - html-css\n",
    "        - mysql\n",
    "        \n",
    "    data science\n",
    "        - fundamentals\n",
    "        - sql\n",
    "        \n",
    "    php\n",
    "        - java-i\n",
    "        - java-ii\n",
    "        - html-css\n",
    "        - mysql\n",
    "        \n",
    "    fe\n",
    "        - No Data\n",
    "    \n",
    "\n",
    "\n"
   ]
  },
  {
   "cell_type": "markdown",
   "id": "7aaa7505",
   "metadata": {},
   "source": [
    "    *Takeaways*\n",
    "    \n",
    "    - For Data Science, fundamentals and sql, were the most popular but only have data from 3 of 5 cohorts\n",
    "    - Web Dev, java 1 & 2 were at the top of the list"
   ]
  }
 ],
 "metadata": {
  "kernelspec": {
   "display_name": "Python 3",
   "language": "python",
   "name": "python3"
  },
  "language_info": {
   "codemirror_mode": {
    "name": "ipython",
    "version": 3
   },
   "file_extension": ".py",
   "mimetype": "text/x-python",
   "name": "python",
   "nbconvert_exporter": "python",
   "pygments_lexer": "ipython3",
   "version": "3.8.8"
  }
 },
 "nbformat": 4,
 "nbformat_minor": 5
}
